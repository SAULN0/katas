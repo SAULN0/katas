{
 "cells": [
  {
   "cell_type": "code",
   "execution_count": null,
   "metadata": {},
   "outputs": [],
   "source": [
    "#Utilidades"
   ]
  },
  {
   "cell_type": "markdown",
   "metadata": {},
   "source": [
    "<h1  align=\"center\" >Fecha</h1>\n",
    "Kata del módulo 1\n",
    "<p align=\"center\" >Muestra la fecha<p>\n",
    "<p align=\"center\" >Gabriel Saul Ventura</p>"
   ]
  },
  {
   "cell_type": "code",
   "execution_count": 3,
   "metadata": {},
   "outputs": [
    {
     "name": "stdout",
     "output_type": "stream",
     "text": [
      "Today's date is: 13 Feb, 2022\n"
     ]
    }
   ],
   "source": [
    "from datetime import datetime\n",
    "Dia= datetime.now()\n",
    "print(\"Today's date is: \" + Dia.strftime(\"%d %b, %Y\"))"
   ]
  },
  {
   "cell_type": "markdown",
   "metadata": {},
   "source": [
    "<h1  align=\"center\" >Convertidor de Unidades</h1>\n",
    "<p align=\"center\" >Parsec-Lightyears<p>"
   ]
  },
  {
   "cell_type": "code",
   "execution_count": 4,
   "metadata": {},
   "outputs": [
    {
     "name": "stdout",
     "output_type": "stream",
     "text": [
      "11.0 parsec are: 35.877159999999996 lightyears\n"
     ]
    }
   ],
   "source": [
    "parsec = float(input(\"Input number of Parsec\"))\n",
    "lightyears = parsec * 3.26156\n",
    "if parsec > 1:\n",
    "    print(str(parsec) + \" parsec are: \" + str(lightyears) + \" lightyears\")\n",
    "else:\n",
    "     print(str(parsec) + \" parsec is: \" + str(lightyears) + \" lightyears\")"
   ]
  }
 ],
 "metadata": {
  "interpreter": {
   "hash": "2be5faf79681da6f2a61fdfdd5405d65d042280f7fba6178067603e3a2925119"
  },
  "kernelspec": {
   "display_name": "Python 3.10.0 64-bit",
   "language": "python",
   "name": "python3"
  },
  "language_info": {
   "codemirror_mode": {
    "name": "ipython",
    "version": 3
   },
   "file_extension": ".py",
   "mimetype": "text/x-python",
   "name": "python",
   "nbconvert_exporter": "python",
   "pygments_lexer": "ipython3",
   "version": "3.10.0"
  },
  "orig_nbformat": 4
 },
 "nbformat": 4,
 "nbformat_minor": 2
}
