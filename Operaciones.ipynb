{
 "cells": [
  {
   "cell_type": "markdown",
   "metadata": {},
   "source": [
    "<h1 align=\"center\">Operadores Aritmeticos </h1>\n",
    "Ejercicio1 - Utilizar operadores aritméticos\n",
    "<p>Kata modulo 5</p>"
   ]
  },
  {
   "cell_type": "code",
   "execution_count": 7,
   "metadata": {},
   "outputs": [],
   "source": [
    "# Crear variables para almacenar las dos distancias\n",
    "# ¡Asegúrate de quitar las comas!\n",
    "\n",
    "planet1 = 149597870\n",
    "planet2 = 778547200"
   ]
  },
  {
   "cell_type": "code",
   "execution_count": 8,
   "metadata": {},
   "outputs": [
    {
     "name": "stdout",
     "output_type": "stream",
     "text": [
      "Distance in Km:  628949330\n",
      "Distance in Mi:  390577533.93\n"
     ]
    }
   ],
   "source": [
    "# Calcular la distancia entre planetas\n",
    "distanceKm = planet2 - planet1\n",
    "print(\"Distance in Km: \", distanceKm)\n",
    "\n",
    "distanceMi = distanceKm * 0.621\n",
    "print(\"Distance in Mi: \",distanceMi)"
   ]
  },
  {
   "cell_type": "markdown",
   "metadata": {},
   "source": [
    "<h2>Ejercicio 2: convierte cadenas en números y usa valores absolutos</h2>\n",
    "Crear una aplicación para trabajar con números y entrada de usuario"
   ]
  },
  {
   "cell_type": "code",
   "execution_count": 5,
   "metadata": {},
   "outputs": [],
   "source": [
    "# Almacenar las entradas del usuario\n",
    "planet1 = int(input('Input the distance from the sun to the first planet in KM'))\n",
    "planet2 = int(input('Input the distance from the sun to the second planet in KM'))"
   ]
  },
  {
   "cell_type": "code",
   "execution_count": 6,
   "metadata": {},
   "outputs": [
    {
     "name": "stdout",
     "output_type": "stream",
     "text": [
      "Distance in Km:  980000\n",
      "Distance in Mi:  608580.0\n"
     ]
    }
   ],
   "source": [
    "# Realizar el cálculo y determinar el valor absoluto\n",
    "distanceKm = planet2 - planet1\n",
    "print(\"Distance in Km: \" , distanceKm )\n",
    "\n",
    "# Convertir de KM a Millas\n",
    "distanceMi = distanceKm * 0.621\n",
    "print(\"Distance in Mi: \" , distanceMi)"
   ]
  }
 ],
 "metadata": {
  "interpreter": {
   "hash": "2be5faf79681da6f2a61fdfdd5405d65d042280f7fba6178067603e3a2925119"
  },
  "kernelspec": {
   "display_name": "Python 3.10.0 64-bit",
   "language": "python",
   "name": "python3"
  },
  "language_info": {
   "codemirror_mode": {
    "name": "ipython",
    "version": 3
   },
   "file_extension": ".py",
   "mimetype": "text/x-python",
   "name": "python",
   "nbconvert_exporter": "python",
   "pygments_lexer": "ipython3",
   "version": "3.10.0"
  },
  "orig_nbformat": 4
 },
 "nbformat": 4,
 "nbformat_minor": 2
}
